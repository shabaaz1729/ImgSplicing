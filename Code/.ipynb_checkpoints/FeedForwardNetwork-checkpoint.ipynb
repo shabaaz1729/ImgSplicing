{
 "cells": [
  {
   "cell_type": "code",
   "execution_count": 22,
   "metadata": {},
   "outputs": [],
   "source": [
    "import os\n",
    "import skimage.io, skimage.color\n",
    "import numpy as np\n",
    "import matplotlib.pyplot\n",
    "import HOG\n",
    "from PIL import Image\n",
    "from skimage.feature import greycomatrix, greycoprops\n",
    "import cv2\n",
    "from skimage import feature \n",
    "\n",
    "from sklearn.preprocessing import StandardScaler\n",
    "from sklearn.model_selection import train_test_split\n",
    "from sklearn.metrics import accuracy_score\n",
    "from tqdm import tqdm_notebook \n",
    "from sklearn.metrics import accuracy_score, mean_squared_error\n",
    "import matplotlib.pyplot as plt"
   ]
  },
  {
   "cell_type": "code",
   "execution_count": 16,
   "metadata": {},
   "outputs": [],
   "source": [
    "def calculate_gradient(img, template):\n",
    "    ts = template.size #Number of elements in the template (3).\n",
    "    #New padded array to hold the resultant gradient image.\n",
    "    new_img = np.zeros((img.shape[0]+ts-1, \n",
    "                           img.shape[1]+ts-1))\n",
    "    new_img[np.uint16((ts-1)/2.0):img.shape[0]+np.uint16((ts-1)/2.0), \n",
    "            np.uint16((ts-1)/2.0):img.shape[1]+np.uint16((ts-1)/2.0)] = img\n",
    "    result = np.zeros((new_img.shape))\n",
    "    \n",
    "    for r in np.uint16(np.arange((ts-1)/2.0, img.shape[0]+(ts-1)/2.0)):\n",
    "        for c in np.uint16(np.arange((ts-1)/2.0, \n",
    "                              img.shape[1]+(ts-1)/2.0)):\n",
    "            curr_region = new_img[r-np.uint16((ts-1)/2.0):r+np.uint16((ts-1)/2.0)+1, \n",
    "                                  c-np.uint16((ts-1)/2.0):c+np.uint16((ts-1)/2.0)+1]\n",
    "            curr_result = curr_region * template\n",
    "            score = np.sum(curr_result)\n",
    "            result[r, c] = scorea\n",
    "    #Result of the same size as the original image after removing the padding.\n",
    "    result_img = result[np.uint16((ts-1)/2.0):result.shape[0]-np.uint16((ts-1)/2.0), \n",
    "                        np.uint16((ts-1)/2.0):result.shape[1]-np.uint16((ts-1)/2.0)]\n",
    "    return result_img\n",
    "\n",
    "def gradient_magnitude(horizontal_gradient, vertical_gradient):\n",
    "    horizontal_gradient_square = np.power(horizontal_gradient, 2)\n",
    "    vertical_gradient_square = np.power(vertical_gradient, 2)\n",
    "    sum_squares = horizontal_gradient_square + vertical_gradient_square\n",
    "    grad_magnitude = np.sqrt(sum_squares)\n",
    "    return grad_magnitude\n",
    "\n",
    "def gradient_direction(horizontal_gradient, vertical_gradient):\n",
    "    grad_direction = np.arctan(vertical_gradient/(horizontal_gradient+0.00000001))\n",
    "    grad_direction = np.rad2deg(grad_direction)\n",
    "    grad_direction = grad_direction%180\n",
    "    return grad_direction\n",
    "\n",
    "def HOG_cell_histogram(cell_direction, cell_magnitude, hist_bins):\n",
    "    HOG_cell_hist = np.zeros(shape=(hist_bins.size))\n",
    "    cell_size = cell_direction.shape[0]\n",
    "    \n",
    "    for row_idx in range(cell_size):\n",
    "        for col_idx in range(cell_size):\n",
    "            curr_direction = cell_direction[row_idx, col_idx]\n",
    "            curr_magnitude = cell_magnitude[row_idx, col_idx]\n",
    "    \n",
    "            diff = np.abs(curr_direction - hist_bins)\n",
    "            \n",
    "            if curr_direction < hist_bins[0]:\n",
    "                first_bin_idx = 0\n",
    "                second_bin_idx = hist_bins.size-1\n",
    "            elif curr_direction > hist_bins[-1]:\n",
    "                first_bin_idx = hist_bins.size-1\n",
    "                second_bin_idx = 0\n",
    "            else:\n",
    "                first_bin_idx = np.where(diff == np.min(diff))[0][0]\n",
    "                temp = hist_bins[[(first_bin_idx-1)%hist_bins.size, (first_bin_idx+1)%hist_bins.size]]\n",
    "                temp2 = np.abs(curr_direction - temp)\n",
    "                res = np.where(temp2 == np.min(temp2))[0][0]\n",
    "                if res == 0 and first_bin_idx != 0:\n",
    "                    second_bin_idx = first_bin_idx-1\n",
    "                else:\n",
    "                    second_bin_idx = first_bin_idx+1\n",
    "            \n",
    "            first_bin_value = hist_bins[first_bin_idx]\n",
    "            second_bin_value = hist_bins[second_bin_idx]\n",
    "            HOG_cell_hist[first_bin_idx] = HOG_cell_hist[first_bin_idx] + (np.abs(curr_direction - first_bin_value)/(180.0/hist_bins.size)) * curr_magnitude\n",
    "            HOG_cell_hist[second_bin_idx] = HOG_cell_hist[second_bin_idx] + (np.abs(curr_direction - second_bin_value)/(180.0/hist_bins.size)) * curr_magnitude\n",
    "    return HOG_cell_hist"
   ]
  },
  {
   "cell_type": "code",
   "execution_count": 3,
   "metadata": {},
   "outputs": [
    {
     "data": {
      "application/vnd.jupyter.widget-view+json": {
       "model_id": "2647b518417048f19a75e78c4ac12510",
       "version_major": 2,
       "version_minor": 0
      },
      "text/plain": [
       "HBox(children=(IntProgress(value=0, max=1845), HTML(value='')))"
      ]
     },
     "metadata": {},
     "output_type": "display_data"
    },
    {
     "name": "stderr",
     "output_type": "stream",
     "text": [
      "C:\\Users\\DELL\\Anaconda3\\lib\\site-packages\\skimage\\feature\\texture.py:109: FutureWarning: Conversion of the second argument of issubdtype from `float` to `np.floating` is deprecated. In future, it will be treated as `np.float64 == np.dtype(float).type`.\n",
      "  if np.issubdtype(image.dtype, np.float):\n"
     ]
    },
    {
     "name": "stdout",
     "output_type": "stream",
     "text": [
      "\n",
      "(1845, 23)\n"
     ]
    }
   ],
   "source": [
    "path = r\"C:\\Users\\Dell\\Desktop\\Project2\\Data\"\n",
    "X = []\n",
    "\n",
    "l = len([name for name in os.listdir(path)])\n",
    "\n",
    "for file in tqdm_notebook(os.listdir(path)): \n",
    "\n",
    "    feat_set = []\n",
    "    im = skimage.io.imread(path+'\\\\'+file)\n",
    "    img = skimage.color.rgb2gray(im)\n",
    "\n",
    "    horizontal_mask = np.array([-1, 0, 1])\n",
    "    vertical_mask = np.array([[-1],[0],[1]])\n",
    "                                 \n",
    "\n",
    "    horizontal_gradient = HOG.calculate_gradient(img, horizontal_mask)\n",
    "    vertical_gradient = HOG.calculate_gradient(img, vertical_mask)\n",
    "\n",
    "    grad_magnitude = HOG.gradient_magnitude(horizontal_gradient, vertical_gradient)\n",
    "    grad_direction = HOG.gradient_direction(horizontal_gradient, vertical_gradient)\n",
    "\n",
    "    grad_direction = grad_direction % 180\n",
    "    hist_bins = np.array([10,20,30,40,50,60,70,80,90,100,110,120,130,140,150,160,170])\n",
    "\n",
    "    # Histogram of the first cell in the first block.\n",
    "    cell_direction = grad_direction[:8, :8]\n",
    "    cell_magnitude = grad_magnitude[:8, :8]\n",
    "    HOG_cell_hist = HOG.HOG_cell_histogram(cell_direction, cell_magnitude, hist_bins)\n",
    "    \n",
    "#     #HOG Feature Descriptor\n",
    "#     HOG_cell_hist = feature.hog(img,orientations=18,pixels_per_cell=(128,128),cells_per_block=(1,1),transform_sqrt=True,block_norm='L2-Hys')\n",
    "    \n",
    "    # GLCM Feature Generation\n",
    "    im_glcm = Image.open(path+'\\\\'+file)\n",
    "    im_glcm = im_glcm.convert(\"L\")\n",
    "    im_glcm = np.array(im_glcm.copy())\n",
    "    g = greycomatrix(im_glcm,[1],[0],symmetric=False,normed=True)\n",
    "    properties = ['contrast','energy','homogeneity','correlation','dissimilarity']\n",
    "    glcm_features = [greycoprops(g,prop)[0][0] for prop in properties]\n",
    "    glcm_features = np.array(glcm_features)\n",
    "    \n",
    "    #RGB Histogram Feature Generation\n",
    "    #hi_im = cv2.imread(path+'\\\\'+file)\n",
    "    #hist = cv2.calcHist([hi_im], [0, 1, 2], None, [8, 8, 8], [0, 256, 0, 256, 0, 256])\n",
    "    #hist = hist.flatten()\n",
    "    \n",
    "    feat_set = np.concatenate((HOG_cell_hist,glcm_features))\n",
    "\n",
    "    X.append(feat_set)\n",
    "\n",
    "X = np.array(X)\n",
    "print(X.shape)"
   ]
  },
  {
   "cell_type": "code",
   "execution_count": 4,
   "metadata": {},
   "outputs": [
    {
     "name": "stdout",
     "output_type": "stream",
     "text": [
      "[0 0 0 ... 1 1 1]\n"
     ]
    }
   ],
   "source": [
    "Y1 = np.zeros(933,dtype=int)\n",
    "Y2 = np.ones(912,dtype=int)\n",
    "Y = np.concatenate([Y1,Y2])\n",
    "print(Y)"
   ]
  },
  {
   "cell_type": "code",
   "execution_count": 5,
   "metadata": {},
   "outputs": [
    {
     "name": "stdout",
     "output_type": "stream",
     "text": [
      "[[ 0.39091139  0.13744726  0.2951848  ...  0.16628346  0.86820382\n",
      "  -0.81449115]\n",
      " [ 0.11100926 -0.13088542 -0.1308715  ...  0.33952532  0.83617599\n",
      "  -0.77496659]\n",
      " [ 0.11100926 -0.13088542 -0.1308715  ...  0.33952532  0.83617599\n",
      "  -0.77496659]\n",
      " ...\n",
      " [-0.85857032 -0.81479914 -0.80211953 ... -1.38362728 -1.53012313\n",
      "   2.47958582]\n",
      " [-0.8142869  -0.7631802  -0.75260826 ... -1.3709089  -1.35739611\n",
      "   2.12581755]\n",
      " [-0.54468713 -0.44892142 -0.46745973 ... -1.12952195 -0.40545951\n",
      "   0.91580746]]\n"
     ]
    }
   ],
   "source": [
    "scaler = StandardScaler()\n",
    "X = scaler.fit_transform(X)\n",
    "print(X)"
   ]
  },
  {
   "cell_type": "code",
   "execution_count": 6,
   "metadata": {},
   "outputs": [],
   "source": [
    "class FFSNNetwork:\n",
    "\n",
    "  def __init__(self,n_inputs,hidden_sizes=[2]):\n",
    "    self.nx = n_inputs\n",
    "    self.ny = 1\n",
    "    self.nh = len(hidden_sizes)\n",
    "    self.sizes = [self.nx] + hidden_sizes + [self.ny]\n",
    "    \n",
    "    self.W = {}\n",
    "    self.B = {}\n",
    "    \n",
    "    for i in range(self.nh+1):\n",
    "      self.W[i+1] = np.random.randn(self.sizes[i],self.sizes[i+1])\n",
    "      self.B[i+1] = np.zeros((1,self.sizes[i+1]))\n",
    "      \n",
    "  def sigmoid(self,x):\n",
    "    return 1.0/(1.0+np.exp(-x))\n",
    "  \n",
    "  def forward_pass(self,x):\n",
    "    self.A = {}\n",
    "    self.H = {}\n",
    "    self.H[0] = x.reshape(1,-1)\n",
    "    for i in range(self.nh+1):\n",
    "      self.A[i+1] = np.matmul(self.H[i],self.W[i+1]) + self.B[i+1]\n",
    "      self.H[i+1] = self.sigmoid(self.A[i+1])\n",
    "    return self.H[self.nh+1]\n",
    "  \n",
    "  def grad_sigmoid(self,x):\n",
    "    return x*(1-x)\n",
    "  \n",
    "  def grad(self, x, y):\n",
    "    self.forward_pass(x)\n",
    "    self.dW = {}\n",
    "    self.dB = {}\n",
    "    self.dH = {}\n",
    "    self.dA = {}\n",
    "    L = self.nh + 1\n",
    "    self.dA[L] = (self.H[L] - y)\n",
    "    for k in range(L, 0, -1):\n",
    "      self.dW[k] = np.matmul(self.H[k-1].T, self.dA[k])\n",
    "      self.dB[k] = self.dA[k]\n",
    "      self.dH[k-1] = np.matmul(self.dA[k], self.W[k].T)\n",
    "      self.dA[k-1] = np.multiply(self.dH[k-1], self.grad_sigmoid(self.H[k-1]))\n",
    "      \n",
    "  def fit(self,X,Y,epochs=1,lr=1,intialise=True,display_loss=False):\n",
    "    \n",
    "    if intialise:\n",
    "      for i in range(self.nh+1):\n",
    "        self.W[i+1] = np.random.randn(self.sizes[i],self.sizes[i+1])\n",
    "        self.B[i+1] = np.zeros((1,self.sizes[i+1]))\n",
    "    if display_loss:\n",
    "      loss = {}\n",
    "    \n",
    "    for e in tqdm_notebook(range(epochs),total=epochs,unit=\"epoch\"):\n",
    "      dW = {}\n",
    "      dB = {}\n",
    "      for i in range(self.nh+1):\n",
    "        dW[i+1] = np.zeros((self.sizes[i],self.sizes[i+1]))\n",
    "        dB[i+1] = np.zeros((1,self.sizes[i+1]))\n",
    "      for x,y in zip(X,Y):\n",
    "        self.grad(x,y)\n",
    "        for i in range(self.nh+1):\n",
    "          dW[i+1] += self.dW[i+1]\n",
    "          dB[i+1] += self.dB[i+1]\n",
    "      m = X.shape[1]\n",
    "      for i in range(self.nh+1):\n",
    "        self.W[i+1] -= lr*dW[i+1]/m\n",
    "        self.B[i+1] -= lr*dB[i+1]/m\n",
    "        \n",
    "      if display_loss:\n",
    "        Y_pred = self.predict(X)\n",
    "        loss[e] = mean_squared_error(Y_pred,Y)\n",
    "    \n",
    "    if display_loss:\n",
    "      plt.plot(loss.values())\n",
    "      plt.xlabel('Epochs')\n",
    "      plt.ylabel('Mean Squared Error')\n",
    "      plt.show()\n",
    "  \n",
    "  def predict(self, X):\n",
    "    Y_pred = []\n",
    "    for x in X:\n",
    "      y_pred = self.forward_pass(x)\n",
    "      Y_pred.append(y_pred)\n",
    "    return np.array(Y_pred).squeeze()"
   ]
  },
  {
   "cell_type": "code",
   "execution_count": 7,
   "metadata": {},
   "outputs": [],
   "source": [
    "X_train, X_test, Y_train, Y_test = train_test_split(X,Y,stratify=Y,random_state=1,test_size=0.1)"
   ]
  },
  {
   "cell_type": "code",
   "execution_count": 20,
   "metadata": {},
   "outputs": [
    {
     "data": {
      "application/vnd.jupyter.widget-view+json": {
       "model_id": "bc8a3ca437f64b4aab0e02df7445af8a",
       "version_major": 2,
       "version_minor": 0
      },
      "text/plain": [
       "HBox(children=(IntProgress(value=0, max=10000), HTML(value='')))"
      ]
     },
     "metadata": {},
     "output_type": "display_data"
    },
    {
     "name": "stdout",
     "output_type": "stream",
     "text": [
      "\n"
     ]
    },
    {
     "data": {
      "image/png": "[encoded data removed]",
      "text/plain": [
       "<Figure size 432x288 with 1 Axes>"
      ]
     },
     "metadata": {},
     "output_type": "display_data"
    }
   ],
   "source": [
    "ffsnn = FFSNNetwork(23, [3, 3, 3, 3])\n",
    "ffsnn.fit(X_train, Y_train, epochs=10000, lr=.01, display_loss=True)"
   ]
  },
  {
   "cell_type": "code",
   "execution_count": 21,
   "metadata": {},
   "outputs": [
    {
     "name": "stdout",
     "output_type": "stream",
     "text": [
      "Training Accuracy  0.7102409638554217\n",
      "Test Accuracy  0.6648648648648648\n"
     ]
    }
   ],
   "source": [
    "Y_pred_train = ffsnn.predict(X_train)\n",
    "Y_pred_binarised_train = (Y_pred_train >= 0.5).astype(\"int\").ravel()\n",
    "Y_pred_test = ffsnn.predict(X_test)\n",
    "Y_pred_binarised_test = (Y_pred_test >= 0.5).astype(\"int\").ravel()\n",
    "accuracy_train = accuracy_score(Y_pred_binarised_train,Y_train)\n",
    "accuracy_test = accuracy_score(Y_pred_binarised_test,Y_test)\n",
    "print(\"Training Accuracy \",accuracy_train)\n",
    "print(\"Test Accuracy \",accuracy_test)"
   ]
  }
 ],
 "metadata": {
  "kernelspec": {
   "display_name": "Python 3",
   "language": "python",
   "name": "python3"
  },
  "language_info": {
   "codemirror_mode": {
    "name": "ipython",
    "version": 3
   },
   "file_extension": ".py",
   "mimetype": "text/x-python",
   "name": "python",
   "nbconvert_exporter": "python",
   "pygments_lexer": "ipython3",
   "version": "3.6.5"
  }
 },
 "nbformat": 4,
 "nbformat_minor": 2
}
